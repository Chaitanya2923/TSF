{
  "nbformat": 4,
  "nbformat_minor": 0,
  "metadata": {
    "kernelspec": {
      "display_name": "Python 3",
      "language": "python",
      "name": "python3"
    },
    "language_info": {
      "codemirror_mode": {
        "name": "ipython",
        "version": 3
      },
      "file_extension": ".py",
      "mimetype": "text/x-python",
      "name": "python",
      "nbconvert_exporter": "python",
      "pygments_lexer": "ipython3",
      "version": "3.6.9"
    },
    "colab": {
      "name": "Supervised Learning - Regression.ipynb",
      "provenance": [],
      "collapsed_sections": []
    }
  },
  "cells": [
    {
      "cell_type": "markdown",
      "metadata": {
        "id": "SMlSM25LcwEt"
      },
      "source": [
        "# **Prediction using Supervised ML**\n",
        "\n",
        "Predicting the percentage of marks of a student based on the number of study hours."
      ]
    },
    {
      "cell_type": "code",
      "metadata": {
        "id": "vB7CZYBfcMGy"
      },
      "source": [
        "import pandas as pd\n",
        "import numpy as np\n",
        "import matplotlib.pyplot as plt\n",
        "import seaborn as sns\n",
        "%matplotlib inline"
      ],
      "execution_count": 28,
      "outputs": []
    },
    {
      "cell_type": "code",
      "metadata": {
        "colab": {
          "base_uri": "https://localhost:8080/",
          "height": 204
        },
        "id": "iTQI_fNQcMHC",
        "outputId": "af47f975-69d5-4876-91a9-137ae4a2cf8d"
      },
      "source": [
        "#Importing the dataset\n",
        "\n",
        "marks= \"http://bit.ly/w-data\"\n",
        "data= pd.read_csv(marks)\n",
        "data.shape\n",
        "data.head()"
      ],
      "execution_count": 29,
      "outputs": [
        {
          "output_type": "execute_result",
          "data": {
            "text/html": [
              "<div>\n",
              "<style scoped>\n",
              "    .dataframe tbody tr th:only-of-type {\n",
              "        vertical-align: middle;\n",
              "    }\n",
              "\n",
              "    .dataframe tbody tr th {\n",
              "        vertical-align: top;\n",
              "    }\n",
              "\n",
              "    .dataframe thead th {\n",
              "        text-align: right;\n",
              "    }\n",
              "</style>\n",
              "<table border=\"1\" class=\"dataframe\">\n",
              "  <thead>\n",
              "    <tr style=\"text-align: right;\">\n",
              "      <th></th>\n",
              "      <th>Hours</th>\n",
              "      <th>Scores</th>\n",
              "    </tr>\n",
              "  </thead>\n",
              "  <tbody>\n",
              "    <tr>\n",
              "      <th>0</th>\n",
              "      <td>2.5</td>\n",
              "      <td>21</td>\n",
              "    </tr>\n",
              "    <tr>\n",
              "      <th>1</th>\n",
              "      <td>5.1</td>\n",
              "      <td>47</td>\n",
              "    </tr>\n",
              "    <tr>\n",
              "      <th>2</th>\n",
              "      <td>3.2</td>\n",
              "      <td>27</td>\n",
              "    </tr>\n",
              "    <tr>\n",
              "      <th>3</th>\n",
              "      <td>8.5</td>\n",
              "      <td>75</td>\n",
              "    </tr>\n",
              "    <tr>\n",
              "      <th>4</th>\n",
              "      <td>3.5</td>\n",
              "      <td>30</td>\n",
              "    </tr>\n",
              "  </tbody>\n",
              "</table>\n",
              "</div>"
            ],
            "text/plain": [
              "   Hours  Scores\n",
              "0    2.5      21\n",
              "1    5.1      47\n",
              "2    3.2      27\n",
              "3    8.5      75\n",
              "4    3.5      30"
            ]
          },
          "metadata": {
            "tags": []
          },
          "execution_count": 29
        }
      ]
    },
    {
      "cell_type": "markdown",
      "metadata": {
        "id": "32OQiKCBfum6"
      },
      "source": [
        "# **Relationship between Variables**\n",
        "\n",
        "As seen below, we observe a liner relationship between the dependent and the independent"
      ]
    },
    {
      "cell_type": "code",
      "metadata": {
        "colab": {
          "base_uri": "https://localhost:8080/",
          "height": 295
        },
        "id": "xcRJQv9IebM3",
        "outputId": "2c13f171-552f-4a18-d839-8d26d4a5532f"
      },
      "source": [
        "data.plot(x='Hours', y='Scores', style='o')\n",
        "plt.title('Hours vs Percentage')\n",
        "plt.xlabel('Hours Studied')\n",
        "plt.ylabel('Percentage')\n",
        "plt.show()"
      ],
      "execution_count": 30,
      "outputs": [
        {
          "output_type": "display_data",
          "data": {
            "image/png": "[encoded data removed]",
            "text/plain": [
              "<Figure size 432x288 with 1 Axes>"
            ]
          },
          "metadata": {
            "tags": [],
            "needs_background": "light"
          }
        }
      ]
    },
    {
      "cell_type": "markdown",
      "metadata": {
        "id": "Y8nhydIDiLV-"
      },
      "source": [
        "*This implies there's a positive trend in the data.*\n",
        "\n",
        "Therefore, we can make use of Simple Linear Regressor, since a linear relationship is observed between the independent and dependent variables."
      ]
    },
    {
      "cell_type": "markdown",
      "metadata": {
        "id": "bznOHSSTgFB2"
      },
      "source": [
        "# **Coorelation**\n",
        "\n",
        "Correlation is a statistic that measures the degree to which two variables move in relation to each other.\n",
        "This measure is helpful in identifying how \"correlated\" a variable is with respect to the dependent variable, a.k.a, target variable.\n",
        "Ranges from [-1,1].\n",
        "\n",
        "Positive correlation specifies positive orientation of that variable with the target variable, and negative implies an inverse orientation. 0 indiactes there's no correlation with the target variable at all, and such variables has to be omitted from training."
      ]
    },
    {
      "cell_type": "code",
      "metadata": {
        "colab": {
          "base_uri": "https://localhost:8080/",
          "height": 269
        },
        "id": "MzSEMApicMHE",
        "outputId": "9b308173-b092-46d1-f893-feac34a9d176"
      },
      "source": [
        "correlation= data.corr(method='pearson')\n",
        "sns.heatmap(correlation, annot=True, cmap='YlGnBu'); #Plot of the correlation matrix"
      ],
      "execution_count": 31,
      "outputs": [
        {
          "output_type": "display_data",
          "data": {
            "image/png": "[encoded data removed]",
            "text/plain": [
              "<Figure size 432x288 with 2 Axes>"
            ]
          },
          "metadata": {
            "tags": [],
            "needs_background": "light"
          }
        }
      ]
    },
    {
      "cell_type": "markdown",
      "metadata": {
        "id": "ZCYpswRTiXan"
      },
      "source": [
        "*As we can see, the variables have a high value of positive coorelation, which is in agreement with the plot which we saw earlier.*"
      ]
    },
    {
      "cell_type": "code",
      "metadata": {
        "id": "NyWtzQP5cMHG"
      },
      "source": [
        "# Splitting the dataset into dependent and independent variables\n",
        "\n",
        "X = data.iloc[:, :-1].values\n",
        "X =X.reshape(-1,1)\n",
        "y = data.iloc[:, 1].values\n",
        "y = y.reshape (-1,1)"
      ],
      "execution_count": 32,
      "outputs": []
    },
    {
      "cell_type": "code",
      "metadata": {
        "id": "5b1rfhiRcMHH"
      },
      "source": [
        "# Splitting the dataset into training and testing data.\n",
        "\n",
        "from sklearn.model_selection import train_test_split\n",
        "X_train, X_test, y_train, y_test = train_test_split(X, y, test_size=0.2, random_state=0)"
      ],
      "execution_count": 33,
      "outputs": []
    },
    {
      "cell_type": "markdown",
      "metadata": {
        "id": "QZwO06bXjFFP"
      },
      "source": [
        "# **Training the Model**\n",
        "\n",
        "We need to implement linear regression models, import the LinearRegression class, instantiate it, and call the fit() method along with the training data."
      ]
    },
    {
      "cell_type": "code",
      "metadata": {
        "colab": {
          "base_uri": "https://localhost:8080/"
        },
        "id": "wZYvcazzcMHI",
        "outputId": "c3a1ce52-9ea6-401b-f8b4-e04a82a7ce8f"
      },
      "source": [
        "from sklearn.linear_model import LinearRegression\n",
        "\n",
        "regressor = LinearRegression()\n",
        "regressor.fit(X_train, y_train)\n",
        "y_pred = regressor.predict(X_test)\n",
        "print(regressor.intercept_)\n",
        "print(regressor.coef_)"
      ],
      "execution_count": 34,
      "outputs": [
        {
          "output_type": "stream",
          "text": [
            "[2.01816004]\n",
            "[[9.91065648]]\n"
          ],
          "name": "stdout"
        }
      ]
    },
    {
      "cell_type": "code",
      "metadata": {
        "colab": {
          "base_uri": "https://localhost:8080/"
        },
        "id": "TGR1T_hDcMHJ",
        "outputId": "4200e379-1418-4d78-8774-4d3fbe9f97af"
      },
      "source": [
        "#Reshaping 2-D Array to 1-D Array in order to put into DataFrame\n",
        "y_test=y_test.reshape(5)\n",
        "y_pred=y_pred.reshape(5)\n",
        "print(y_test)\n",
        "print(y_pred)"
      ],
      "execution_count": 35,
      "outputs": [
        {
          "output_type": "stream",
          "text": [
            "[20 27 69 30 62]\n",
            "[16.88414476 33.73226078 75.357018   26.79480124 60.49103328]\n"
          ],
          "name": "stdout"
        }
      ]
    },
    {
      "cell_type": "markdown",
      "metadata": {
        "id": "Q4PPvNvGozmA"
      },
      "source": [
        "# **Evaluation**\n",
        "\n",
        "Study the performance of the model."
      ]
    },
    {
      "cell_type": "code",
      "metadata": {
        "colab": {
          "base_uri": "https://localhost:8080/"
        },
        "id": "31spYmf1cMHL",
        "outputId": "9e754b35-cda6-43d8-c547-e9c5acd0206e"
      },
      "source": [
        "from sklearn import metrics\n",
        "print('Mean Absolute Error:', metrics.mean_absolute_error(y_test, y_pred))\n",
        "print('Mean Squared Error:', metrics.mean_squared_error(y_test, y_pred))\n",
        "print('Root Mean Squared Error:', np.sqrt(metrics.mean_squared_error(y_test, y_pred)))\n",
        "print('Regression Score:', metrics.r2_score(y_true=y_test, y_pred=y_pred))"
      ],
      "execution_count": 36,
      "outputs": [
        {
          "output_type": "stream",
          "text": [
            "Mean Absolute Error: 4.183859899002982\n",
            "Mean Squared Error: 21.598769307217456\n",
            "Root Mean Squared Error: 4.647447612100373\n",
            "Regression Score: 0.9454906892105354\n"
          ],
          "name": "stdout"
        }
      ]
    },
    {
      "cell_type": "markdown",
      "metadata": {
        "id": "i80Yfl1CoZrj"
      },
      "source": [
        "*As seen above, the **score** obtained for our model is about 94.5%, with small MAE, MSE and RMS error.*"
      ]
    },
    {
      "cell_type": "markdown",
      "metadata": {
        "id": "78-FNCQAoqSV"
      },
      "source": [
        "# **Prediction**\n",
        "\n",
        "Predicting for a new value which the model has not seen before."
      ]
    },
    {
      "cell_type": "code",
      "metadata": {
        "colab": {
          "base_uri": "https://localhost:8080/"
        },
        "id": "dd_tBkhdoTwA",
        "outputId": "3c3080ca-0971-4ea0-95cc-8504fd98c176"
      },
      "source": [
        "hrs = 9.5\n",
        "pred = regressor.predict([[hrs]])\n",
        "print(\"No of Hours = {}\".format(hrs))\n",
        "print(\"Predicted Score = {}\".format(pred[0]))"
      ],
      "execution_count": 37,
      "outputs": [
        {
          "output_type": "stream",
          "text": [
            "No of Hours = 9.5\n",
            "Predicted Score = [96.16939661]\n"
          ],
          "name": "stdout"
        }
      ]
    },
    {
      "cell_type": "markdown",
      "metadata": {
        "id": "nU3Xou8Oog93"
      },
      "source": [
        "*As seen in the above example, if a student studies for about 9.5 hours, he/she can obtain about 96.2%*"
      ]
    },
    {
      "cell_type": "markdown",
      "metadata": {
        "id": "JxxLqElYlu4N"
      },
      "source": [
        "# **Conclusion**\n",
        "\n",
        "In this notebook, we have seen the implementation of a simple linear regression model, and have concluded that Linear regression is the best regression model for this dataset."
      ]
    }
  ]
}